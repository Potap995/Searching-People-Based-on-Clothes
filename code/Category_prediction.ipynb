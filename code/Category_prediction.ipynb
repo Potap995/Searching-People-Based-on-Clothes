{
  "nbformat": 4,
  "nbformat_minor": 0,
  "metadata": {
    "kernelspec": {
      "name": "python3",
      "display_name": "Python 3"
    },
    "language_info": {
      "codemirror_mode": {
        "name": "ipython",
        "version": 3
      },
      "file_extension": ".py",
      "mimetype": "text/x-python",
      "name": "python",
      "nbconvert_exporter": "python",
      "pygments_lexer": "ipython3",
      "version": "3.7.3"
    },
    "colab": {
      "name": "Copy of Category prediction.ipynb",
      "provenance": [],
      "toc_visible": true
    },
    "accelerator": "GPU",
    "widgets": {
      "application/vnd.jupyter.widget-state+json": {
        "be900e913c7e4d66becc399129ab4fcc": {
          "model_module": "@jupyter-widgets/controls",
          "model_name": "HBoxModel",
          "state": {
            "_view_name": "HBoxView",
            "_dom_classes": [],
            "_model_name": "HBoxModel",
            "_view_module": "@jupyter-widgets/controls",
            "_model_module_version": "1.5.0",
            "_view_count": null,
            "_view_module_version": "1.5.0",
            "box_style": "",
            "layout": "IPY_MODEL_78f208a0116d4aa5ae8bc4ef17ae383a",
            "_model_module": "@jupyter-widgets/controls",
            "children": [
              "IPY_MODEL_f860f0c4880940918ac77df92a984ab6",
              "IPY_MODEL_18775f82b3d7404a92ee9e3865236c81"
            ]
          }
        },
        "78f208a0116d4aa5ae8bc4ef17ae383a": {
          "model_module": "@jupyter-widgets/base",
          "model_name": "LayoutModel",
          "state": {
            "_view_name": "LayoutView",
            "grid_template_rows": null,
            "right": null,
            "justify_content": null,
            "_view_module": "@jupyter-widgets/base",
            "overflow": null,
            "_model_module_version": "1.2.0",
            "_view_count": null,
            "flex_flow": null,
            "width": null,
            "min_width": null,
            "border": null,
            "align_items": null,
            "bottom": null,
            "_model_module": "@jupyter-widgets/base",
            "top": null,
            "grid_column": null,
            "overflow_y": null,
            "overflow_x": null,
            "grid_auto_flow": null,
            "grid_area": null,
            "grid_template_columns": null,
            "flex": null,
            "_model_name": "LayoutModel",
            "justify_items": null,
            "grid_row": null,
            "max_height": null,
            "align_content": null,
            "visibility": null,
            "align_self": null,
            "height": null,
            "min_height": null,
            "padding": null,
            "grid_auto_rows": null,
            "grid_gap": null,
            "max_width": null,
            "order": null,
            "_view_module_version": "1.2.0",
            "grid_template_areas": null,
            "object_position": null,
            "object_fit": null,
            "grid_auto_columns": null,
            "margin": null,
            "display": null,
            "left": null
          }
        },
        "f860f0c4880940918ac77df92a984ab6": {
          "model_module": "@jupyter-widgets/controls",
          "model_name": "IntProgressModel",
          "state": {
            "_view_name": "ProgressView",
            "style": "IPY_MODEL_2038799b65b747cd8018150936dec513",
            "_dom_classes": [],
            "description": "100%",
            "_model_name": "IntProgressModel",
            "bar_style": "success",
            "max": 356082095,
            "_view_module": "@jupyter-widgets/controls",
            "_model_module_version": "1.5.0",
            "value": 356082095,
            "_view_count": null,
            "_view_module_version": "1.5.0",
            "orientation": "horizontal",
            "min": 0,
            "description_tooltip": null,
            "_model_module": "@jupyter-widgets/controls",
            "layout": "IPY_MODEL_dbdbf770a73a4a0ba375a63b98a85e92"
          }
        },
        "18775f82b3d7404a92ee9e3865236c81": {
          "model_module": "@jupyter-widgets/controls",
          "model_name": "HTMLModel",
          "state": {
            "_view_name": "HTMLView",
            "style": "IPY_MODEL_a9a208ca01a144ef9c49d073f39056c7",
            "_dom_classes": [],
            "description": "",
            "_model_name": "HTMLModel",
            "placeholder": "​",
            "_view_module": "@jupyter-widgets/controls",
            "_model_module_version": "1.5.0",
            "value": " 340M/340M [00:06&lt;00:00, 51.0MB/s]",
            "_view_count": null,
            "_view_module_version": "1.5.0",
            "description_tooltip": null,
            "_model_module": "@jupyter-widgets/controls",
            "layout": "IPY_MODEL_434c26d44c9146379eee3ce82b171a59"
          }
        },
        "2038799b65b747cd8018150936dec513": {
          "model_module": "@jupyter-widgets/controls",
          "model_name": "ProgressStyleModel",
          "state": {
            "_view_name": "StyleView",
            "_model_name": "ProgressStyleModel",
            "description_width": "initial",
            "_view_module": "@jupyter-widgets/base",
            "_model_module_version": "1.5.0",
            "_view_count": null,
            "_view_module_version": "1.2.0",
            "bar_color": null,
            "_model_module": "@jupyter-widgets/controls"
          }
        },
        "dbdbf770a73a4a0ba375a63b98a85e92": {
          "model_module": "@jupyter-widgets/base",
          "model_name": "LayoutModel",
          "state": {
            "_view_name": "LayoutView",
            "grid_template_rows": null,
            "right": null,
            "justify_content": null,
            "_view_module": "@jupyter-widgets/base",
            "overflow": null,
            "_model_module_version": "1.2.0",
            "_view_count": null,
            "flex_flow": null,
            "width": null,
            "min_width": null,
            "border": null,
            "align_items": null,
            "bottom": null,
            "_model_module": "@jupyter-widgets/base",
            "top": null,
            "grid_column": null,
            "overflow_y": null,
            "overflow_x": null,
            "grid_auto_flow": null,
            "grid_area": null,
            "grid_template_columns": null,
            "flex": null,
            "_model_name": "LayoutModel",
            "justify_items": null,
            "grid_row": null,
            "max_height": null,
            "align_content": null,
            "visibility": null,
            "align_self": null,
            "height": null,
            "min_height": null,
            "padding": null,
            "grid_auto_rows": null,
            "grid_gap": null,
            "max_width": null,
            "order": null,
            "_view_module_version": "1.2.0",
            "grid_template_areas": null,
            "object_position": null,
            "object_fit": null,
            "grid_auto_columns": null,
            "margin": null,
            "display": null,
            "left": null
          }
        },
        "a9a208ca01a144ef9c49d073f39056c7": {
          "model_module": "@jupyter-widgets/controls",
          "model_name": "DescriptionStyleModel",
          "state": {
            "_view_name": "StyleView",
            "_model_name": "DescriptionStyleModel",
            "description_width": "",
            "_view_module": "@jupyter-widgets/base",
            "_model_module_version": "1.5.0",
            "_view_count": null,
            "_view_module_version": "1.2.0",
            "_model_module": "@jupyter-widgets/controls"
          }
        },
        "434c26d44c9146379eee3ce82b171a59": {
          "model_module": "@jupyter-widgets/base",
          "model_name": "LayoutModel",
          "state": {
            "_view_name": "LayoutView",
            "grid_template_rows": null,
            "right": null,
            "justify_content": null,
            "_view_module": "@jupyter-widgets/base",
            "overflow": null,
            "_model_module_version": "1.2.0",
            "_view_count": null,
            "flex_flow": null,
            "width": null,
            "min_width": null,
            "border": null,
            "align_items": null,
            "bottom": null,
            "_model_module": "@jupyter-widgets/base",
            "top": null,
            "grid_column": null,
            "overflow_y": null,
            "overflow_x": null,
            "grid_auto_flow": null,
            "grid_area": null,
            "grid_template_columns": null,
            "flex": null,
            "_model_name": "LayoutModel",
            "justify_items": null,
            "grid_row": null,
            "max_height": null,
            "align_content": null,
            "visibility": null,
            "align_self": null,
            "height": null,
            "min_height": null,
            "padding": null,
            "grid_auto_rows": null,
            "grid_gap": null,
            "max_width": null,
            "order": null,
            "_view_module_version": "1.2.0",
            "grid_template_areas": null,
            "object_position": null,
            "object_fit": null,
            "grid_auto_columns": null,
            "margin": null,
            "display": null,
            "left": null
          }
        }
      }
    }
  },
  "cells": [
    {
      "cell_type": "code",
      "metadata": {
        "id": "L7XLY6VTYYNY",
        "colab_type": "code",
        "colab": {}
      },
      "source": [
        "import torchvision\n",
        "import torch\n",
        "import numpy as np\n",
        "import os\n",
        "\n",
        "BASE_PATH = '/content/Clothes/'"
      ],
      "execution_count": 0,
      "outputs": []
    },
    {
      "cell_type": "code",
      "metadata": {
        "id": "2eMV3QhoYeWF",
        "colab_type": "code",
        "outputId": "74d93e21-1339-41cd-d3d1-81dcaab36d74",
        "colab": {
          "base_uri": "https://localhost:8080/",
          "height": 122
        }
      },
      "source": [
        "from google.colab import drive\n",
        "drive.mount('/content/drive')"
      ],
      "execution_count": 2,
      "outputs": [
        {
          "output_type": "stream",
          "text": [
            "Go to this URL in a browser: https://accounts.google.com/o/oauth2/auth?client_id=947318989803-6bn6qk8qdgf4n4g3pfee6491hc0brc4i.apps.googleusercontent.com&redirect_uri=urn%3aietf%3awg%3aoauth%3a2.0%3aoob&response_type=code&scope=email%20https%3a%2f%2fwww.googleapis.com%2fauth%2fdocs.test%20https%3a%2f%2fwww.googleapis.com%2fauth%2fdrive%20https%3a%2f%2fwww.googleapis.com%2fauth%2fdrive.photos.readonly%20https%3a%2f%2fwww.googleapis.com%2fauth%2fpeopleapi.readonly\n",
            "\n",
            "Enter your authorization code:\n",
            "··········\n",
            "Mounted at /content/drive\n"
          ],
          "name": "stdout"
        }
      ]
    },
    {
      "cell_type": "code",
      "metadata": {
        "id": "PijfSwUFZsVn",
        "colab_type": "code",
        "outputId": "e29a6f9e-253e-4839-e8be-df3001e79647",
        "colab": {
          "base_uri": "https://localhost:8080/",
          "height": 34
        }
      },
      "source": [
        "import shutil\n",
        "shutil.copytree('/content/drive/My Drive/Clothes/', '/content/Clothes/')"
      ],
      "execution_count": 3,
      "outputs": [
        {
          "output_type": "execute_result",
          "data": {
            "text/plain": [
              "'/content/Clothes/'"
            ]
          },
          "metadata": {
            "tags": []
          },
          "execution_count": 3
        }
      ]
    },
    {
      "cell_type": "code",
      "metadata": {
        "id": "9lvUrwj5ZsS7",
        "colab_type": "code",
        "colab": {}
      },
      "source": [
        "import zipfile\n",
        "with zipfile.ZipFile('/content/Clothes/img.zip', 'r') as zip_ref:\n",
        "    zip_ref.extractall('/content/Clothes/')"
      ],
      "execution_count": 0,
      "outputs": []
    },
    {
      "cell_type": "markdown",
      "metadata": {
        "id": "uvBHvTxBYYNb",
        "colab_type": "text"
      },
      "source": [
        "# Dataset loading"
      ]
    },
    {
      "cell_type": "code",
      "metadata": {
        "id": "NvzWZNwIYYNb",
        "colab_type": "code",
        "colab": {}
      },
      "source": [
        "cats_file = open(BASE_PATH + 'Anno/list_category_cloth.txt', 'r').readlines()\n",
        "cats_img_file = open(BASE_PATH + 'Anno/list_category_img.txt', 'r').readlines()"
      ],
      "execution_count": 0,
      "outputs": []
    },
    {
      "cell_type": "code",
      "metadata": {
        "id": "OO6BbeeqYYNd",
        "colab_type": "code",
        "colab": {}
      },
      "source": [
        "path_to_idx = {}\n",
        "idx_to_path = {}\n",
        "\n",
        "cats_img_file = [list(filter(None, x.strip().split(' '))) for x in cats_img_file[2:]]\n",
        "\n",
        "for i, img in enumerate(cats_img_file):\n",
        "    path = img[0]\n",
        "    idx_to_path[i] = path\n",
        "    path_to_idx[path] = i\n",
        "\n",
        "N_SAMPLES = len(idx_to_path)"
      ],
      "execution_count": 0,
      "outputs": []
    },
    {
      "cell_type": "code",
      "metadata": {
        "id": "91Ost6pbYYNf",
        "colab_type": "code",
        "colab": {}
      },
      "source": [
        "categories = []\n",
        "\n",
        "for ln in cats_file[2:]:\n",
        "    cur = list(filter(None, ln[:-1].split(' ')))\n",
        "    categories.append(cur[0])\n",
        "\n",
        "    \n",
        "cat_target = np.zeros((len(idx_to_path), len(categories)), dtype=np.uint8)\n",
        "cat_list = {}\n",
        "\n",
        "for img in cats_img_file:\n",
        "    cur_cat = int(img[1]) - 1\n",
        "\n",
        "    cat_target[path_to_idx[img[0]]][cur_cat] = 1\n",
        "    if cur_cat in cat_list:\n",
        "        cat_list[cur_cat].append(path_to_idx[img[0]])\n",
        "    else:\n",
        "        cat_list[cur_cat] = [path_to_idx[img[0]]]"
      ],
      "execution_count": 0,
      "outputs": []
    },
    {
      "cell_type": "code",
      "metadata": {
        "id": "hWdAjqOaYYNh",
        "colab_type": "code",
        "colab": {}
      },
      "source": [
        "train_idxs = []\n",
        "val_idxs   = []\n",
        "\n",
        "split_file = open(BASE_PATH + 'Eval/list_eval_partition.txt', 'r').readlines()\n",
        "\n",
        "for ln in split_file[2:]:\n",
        "    cur = list(filter(None, ln[:-1].split(' ')))\n",
        "    cur_type = cur[1]\n",
        "    if cur_type == 'train':\n",
        "        train_idxs.append(path_to_idx[cur[0]])\n",
        "    elif cur_type == 'val':\n",
        "        val_idxs.append(path_to_idx[cur[0]])\n",
        "        \n",
        "train_idxs = np.array(train_idxs)\n",
        "val_idxs = np.array(val_idxs)"
      ],
      "execution_count": 0,
      "outputs": []
    },
    {
      "cell_type": "markdown",
      "metadata": {
        "id": "rv_M6PDwYYNs",
        "colab_type": "text"
      },
      "source": [
        "# Data loading"
      ]
    },
    {
      "cell_type": "code",
      "metadata": {
        "id": "y7hI5ON9YYNs",
        "colab_type": "code",
        "colab": {}
      },
      "source": [
        "from skimage.transform import rescale\n",
        "from PIL import Image\n",
        "\n",
        "TARGET_SIZE = (224, 224)\n",
        "\n",
        "def load_img(path):\n",
        "    result = np.ones((TARGET_SIZE[0], TARGET_SIZE[1], 3), dtype=np.uint8) * 255\n",
        "    img = Image.open(path)\n",
        "    img.thumbnail(TARGET_SIZE)\n",
        "    offset = (np.array(TARGET_SIZE) - np.array(img.size)) // 2\n",
        "    result[offset[1]: offset[1] + img.size[1], offset[0]: offset[0] + img.size[0]] = np.array(img)\n",
        "    return result\n"
      ],
      "execution_count": 0,
      "outputs": []
    },
    {
      "cell_type": "code",
      "metadata": {
        "id": "V_mXD-dZYYNw",
        "colab_type": "code",
        "colab": {}
      },
      "source": [
        "def batch_generator(batch_size=32, dataset='train', shuffle=True):\n",
        "    if dataset == 'train':\n",
        "        idxs = train_idxs \n",
        "    else:\n",
        "        idxs = val_idxs\n",
        "        \n",
        "    perm = np.random.permutation(idxs) if shuffle else np.arange(len(idxs))\n",
        "    start_idx = 0\n",
        "    while True:\n",
        "        if start_idx + batch_size > len(idxs):\n",
        "            perm = np.random.permutation(idxs) if shuffle else np.arange(len(idxs))\n",
        "            start_idx = 0\n",
        "        imgs = [load_img(BASE_PATH + idx_to_path[perm[start_idx + i]]) for i in range(batch_size)]\n",
        "        imgs = np.stack(imgs) / 256.0 - 0.5\n",
        "        imgs = torch.tensor(imgs, dtype=torch.float32, device='cuda:0').permute(0, 3, 1, 2).contiguous()\n",
        "        \n",
        "        cur_idxs = perm[start_idx: start_idx + batch_size]\n",
        "        target = torch.tensor(cat_target[cur_idxs].argmax(1), dtype=torch.int64, device='cuda:0').contiguous()\n",
        "        start_idx += batch_size\n",
        "        yield imgs, target"
      ],
      "execution_count": 0,
      "outputs": []
    },
    {
      "cell_type": "markdown",
      "metadata": {
        "id": "-3J_uxZdYYNz",
        "colab_type": "text"
      },
      "source": [
        "# Architecture"
      ]
    },
    {
      "cell_type": "code",
      "metadata": {
        "id": "nZ11RUG3YYNz",
        "colab_type": "code",
        "outputId": "e6b2b612-8514-4d9a-9abc-a7991efd280c",
        "colab": {
          "base_uri": "https://localhost:8080/",
          "height": 83,
          "referenced_widgets": [
            "be900e913c7e4d66becc399129ab4fcc",
            "78f208a0116d4aa5ae8bc4ef17ae383a",
            "f860f0c4880940918ac77df92a984ab6",
            "18775f82b3d7404a92ee9e3865236c81",
            "2038799b65b747cd8018150936dec513",
            "dbdbf770a73a4a0ba375a63b98a85e92",
            "a9a208ca01a144ef9c49d073f39056c7",
            "434c26d44c9146379eee3ce82b171a59"
          ]
        }
      },
      "source": [
        "model = torchvision.models.resnext101_32x8d(pretrained=True)\n",
        "model.fc = torch.nn.Linear(in_features=2048, out_features=1024, bias=True)\n",
        "model = torch.nn.Sequential(\n",
        "    model,\n",
        "    torch.nn.Linear(in_features=1024, out_features=50, bias=True)\n",
        ").cuda()"
      ],
      "execution_count": 11,
      "outputs": [
        {
          "output_type": "stream",
          "text": [
            "Downloading: \"https://download.pytorch.org/models/resnext101_32x8d-8ba56ff5.pth\" to /root/.cache/torch/checkpoints/resnext101_32x8d-8ba56ff5.pth\n"
          ],
          "name": "stderr"
        },
        {
          "output_type": "display_data",
          "data": {
            "application/vnd.jupyter.widget-view+json": {
              "model_id": "be900e913c7e4d66becc399129ab4fcc",
              "version_minor": 0,
              "version_major": 2
            },
            "text/plain": [
              "HBox(children=(IntProgress(value=0, max=356082095), HTML(value='')))"
            ]
          },
          "metadata": {
            "tags": []
          }
        },
        {
          "output_type": "stream",
          "text": [
            "\n"
          ],
          "name": "stdout"
        }
      ]
    },
    {
      "cell_type": "code",
      "metadata": {
        "id": "Z97MhtU_YYN1",
        "colab_type": "code",
        "colab": {}
      },
      "source": [
        "for j, ch in enumerate(model.children()):\n",
        "    if j == 0:\n",
        "        for i, layer in enumerate(ch.children()):\n",
        "            if i < 9:\n",
        "                for param in layer.parameters():\n",
        "                    param.requires_grad = False\n",
        "            if i == 9:\n",
        "                for param in layer.parameters():\n",
        "                    param.requires_grad = True\n",
        "                \n",
        "    else:\n",
        "        for param in ch.parameters():\n",
        "            param.requires_grad = True"
      ],
      "execution_count": 0,
      "outputs": []
    },
    {
      "cell_type": "code",
      "metadata": {
        "id": "iBXCaTaZYYN2",
        "colab_type": "code",
        "colab": {}
      },
      "source": [
        "from torchsummary import summary\n",
        "summary(model, (3, 224, 224))"
      ],
      "execution_count": 0,
      "outputs": []
    },
    {
      "cell_type": "code",
      "metadata": {
        "id": "uHCsHQG5YYN4",
        "colab_type": "code",
        "colab": {}
      },
      "source": [
        "import time\n",
        "import copy\n",
        "\n",
        "def train_model(model, criterion, optimizer, num_epochs=3, batch_size=12):\n",
        "    since = time.time()\n",
        "\n",
        "    history = {}\n",
        "\n",
        "    best_model_wts = copy.deepcopy(model.state_dict())\n",
        "    best_acc = 0.0\n",
        "    \n",
        "    dataloaders = {\n",
        "        'train' : batch_generator(batch_size=batch_size, dataset='train'),\n",
        "        'val' : batch_generator(batch_size=batch_size, dataset='val')\n",
        "    }\n",
        "\n",
        "    for epoch in range(num_epochs):\n",
        "        history[epoch] = {}\n",
        "        print('Epoch {}/{}'.format(epoch, num_epochs - 1))\n",
        "        print('-' * 10)\n",
        "\n",
        "        # Each epoch has a training and validation phase\n",
        "        for phase in ['train', 'val']:\n",
        "            if phase == 'train':\n",
        "                model.train()  # Set model to training mode\n",
        "            else:\n",
        "                model.eval()   # Set model to evaluate mode\n",
        "\n",
        "            running_loss = 0.0\n",
        "            running_corrects = 0\n",
        "            running_top_3 = 0.0\n",
        "            running_top_5 = 0.0\n",
        "\n",
        "            # Iterate over data.\n",
        "            N_STEPS = len(train_idxs if phase == 'train' else val_idxs) // batch_size\n",
        "            N_STEPS = N_STEPS // 4\n",
        "            total_imgs = 0\n",
        "            s = time.time()\n",
        "            for step in range(N_STEPS):\n",
        "                inputs, labels = next(dataloaders[phase])\n",
        "                optimizer.zero_grad()\n",
        "\n",
        "                with torch.set_grad_enabled(phase == 'train'):\n",
        "                    outputs = model(inputs)\n",
        "                    loss = criterion(outputs, labels)\n",
        "                    _, preds = torch.max(outputs, 1)\n",
        "                    \n",
        "                    pred_order = torch.argsort(outputs, dim=1, descending=True)\n",
        "                    \n",
        "                    if phase == 'train':\n",
        "                        loss.backward()\n",
        "                        optimizer.step()\n",
        "\n",
        "                running_loss += loss.item() * inputs.size(0)\n",
        "                cur_corrects = torch.sum(preds == labels.data)\n",
        "                running_corrects += cur_corrects\n",
        "                \n",
        "                cur_top_3 = (pred_order[:, :3] == labels.view(-1, 1)).sum()\n",
        "                cur_top_5 = (pred_order[:, :5] == labels.view(-1, 1)).sum()\n",
        "                running_top_3 += cur_top_3\n",
        "                running_top_5 += cur_top_5\n",
        "                \n",
        "                total_imgs += batch_size\n",
        "                t = time.time()\n",
        "                print('Step: %d/%d (%.2f ms per step). Loss: %.4f. Batch-accuracy: %.2f%%. Batch-top-3: %.2f%%. Batch-top-5: %.2f%% ' % (\n",
        "                    step, N_STEPS, (t-s)*1000.0 / (step + 1), \n",
        "                    running_loss / total_imgs, \n",
        "                    cur_corrects * 100.0 / batch_size,\n",
        "                    cur_top_3 * 100.0 / batch_size,\n",
        "                    cur_top_5 * 100.0 / batch_size\n",
        "                ))\n",
        "            \n",
        "            cur_idxs = train_idxs if phase == 'train' else val_idxs\n",
        "            epoch_loss = running_loss / total_imgs\n",
        "            epoch_acc = running_corrects.double() / total_imgs\n",
        "            epoch_top3 = running_top_3.double() / total_imgs\n",
        "            epoch_top5 = running_top_5.double() / total_imgs\n",
        "            \n",
        "            history[epoch][phase] = {\n",
        "                'loss' : epoch_loss,\n",
        "                'accuracy' : epoch_acc,\n",
        "                'top3-acc' : epoch_top3,\n",
        "                'top5-acc' : epoch_top5\n",
        "            }\n",
        "            \n",
        "            print()\n",
        "            print('Epoch %d| %s| Loss: %.4f. Acc: %.4f' % (epoch, phase, epoch_loss, epoch_acc))\n",
        "\n",
        "            # deep copy the model\n",
        "            if phase == 'val' and epoch_acc > best_acc:\n",
        "                best_acc = epoch_acc\n",
        "                best_model_wts = copy.deepcopy(model.state_dict())\n",
        "            \n",
        "            torch.save(model, f'D:\\Programming\\CourseWork_3\\Clothes\\\\model{mod}_{epoch}.pth')\n",
        "        print()\n",
        "\n",
        "    time_elapsed = time.time() - since\n",
        "    print('Training complete in {:.0f}m {:.0f}s'.format(time_elapsed // 60, time_elapsed % 60))\n",
        "    print('Best val Acc: {:4f}'.format(best_acc))\n",
        "\n",
        "    # load best model weights\n",
        "    model.load_state_dict(best_model_wts)\n",
        "    return model, history"
      ],
      "execution_count": 0,
      "outputs": []
    },
    {
      "cell_type": "code",
      "metadata": {
        "id": "jQVjNVg6YYN5",
        "colab_type": "code",
        "colab": {}
      },
      "source": [
        "loss = torch.nn.CrossEntropyLoss()\n",
        "\n",
        "params_to_update = []\n",
        "for name,param in model.named_parameters():\n",
        "    if param.requires_grad == True:\n",
        "        params_to_update.append(param)\n",
        "        \n",
        "optimizer_ft = torch.optim.SGD(params_to_update, lr=0.001, momentum=0.9)\n",
        "\n",
        "result = train_model(model, loss, optimizer_ft, batch_size=32, num_epochs=4)"
      ],
      "execution_count": 0,
      "outputs": []
    },
    {
      "cell_type": "code",
      "metadata": {
        "id": "rX22ledVVunp",
        "colab_type": "code",
        "colab": {}
      },
      "source": [
        "model = result[0]\n",
        "torch.save(model.state_dict(), f\"/content/drive/My Drive/Clothes/model_last.pt\")"
      ],
      "execution_count": 0,
      "outputs": []
    },
    {
      "cell_type": "code",
      "metadata": {
        "scrolled": true,
        "id": "K1qQcX9nYYN7",
        "colab_type": "code",
        "outputId": "618e6822-8629-4e95-d3b7-f2c1eb01374e",
        "colab": {
          "base_uri": "https://localhost:8080/",
          "height": 34
        }
      },
      "source": [
        "import tqdm\n",
        "gen = batch_generator(batch_size=32, dataset='val')\n",
        "\n",
        "N_STEPS = 1250\n",
        "\n",
        "accuracy = 0.0\n",
        "top3_acc = 0.0\n",
        "top5_acc = 0.0\n",
        "\n",
        "model.eval()\n",
        "with torch.set_grad_enabled(False):\n",
        "    for i in tqdm.tqdm(range(N_STEPS)):\n",
        "        imgs, labels = next(gen)\n",
        "        outs = model(imgs)\n",
        "        pred_order = torch.argsort(outs, dim=1, descending=True)\n",
        "\n",
        "        accuracy += (pred_order[:, 0] == labels).sum()\n",
        "        top3_acc += (pred_order[:, :3] == labels.view(-1, 1)).sum()\n",
        "        top5_acc += (pred_order[:, :5] == labels.view(-1, 1)).sum()"
      ],
      "execution_count": 0,
      "outputs": [
        {
          "output_type": "stream",
          "text": [
            "100%|██████████| 1250/1250 [05:25<00:00,  3.84it/s]\n"
          ],
          "name": "stderr"
        }
      ]
    },
    {
      "cell_type": "code",
      "metadata": {
        "id": "m6641DqSYYN9",
        "colab_type": "code",
        "outputId": "6a470530-9adf-439b-a840-71678da04f45",
        "colab": {
          "base_uri": "https://localhost:8080/",
          "height": 34
        }
      },
      "source": [
        "total_imgs = N_STEPS * 32\n",
        "print('Accuracy: %.3f%%. Top3-accuracy: %.3f%%. Top5-accuracy: %.3f%% ' % (\n",
        "    float(accuracy) * 100.0 / total_imgs,\n",
        "    float(top3_acc) * 100.0 / total_imgs,\n",
        "    float(top5_acc) * 100.0 / total_imgs), \n",
        ")"
      ],
      "execution_count": 0,
      "outputs": [
        {
          "output_type": "stream",
          "text": [
            "Accuracy: 55.315%. Top3-accuracy: 78.270%. Top5-accuracy: 87.220% \n"
          ],
          "name": "stdout"
        }
      ]
    },
    {
      "cell_type": "markdown",
      "metadata": {
        "id": "yAipO_CSYYN_",
        "colab_type": "text"
      },
      "source": [
        "### Fine tuning of convolutional layers"
      ]
    },
    {
      "cell_type": "code",
      "metadata": {
        "id": "zbTC7Tb7YYOA",
        "colab_type": "code",
        "outputId": "6cb69995-a5e5-441d-be59-a3386fcf1e23",
        "colab": {
          "base_uri": "https://localhost:8080/",
          "height": 34
        }
      },
      "source": [
        "torch.cuda.empty_cache()"
      ],
      "execution_count": 0,
      "outputs": [
        {
          "output_type": "execute_result",
          "data": {
            "text/plain": [
              "<All keys matched successfully>"
            ]
          },
          "metadata": {
            "tags": []
          },
          "execution_count": 34
        }
      ]
    },
    {
      "cell_type": "code",
      "metadata": {
        "id": "hYKdXej_YYOB",
        "colab_type": "code",
        "colab": {}
      },
      "source": [
        "model = torchvision.models.resnext101_32x8d(pretrained=False)\n",
        "model.fc = torch.nn.Linear(in_features=2048, out_features=1024, bias=True)\n",
        "model = torch.nn.Sequential(\n",
        "    model,\n",
        "    torch.nn.Linear(in_features=1024, out_features=50, bias=True)\n",
        ").cuda()\n",
        "model.load_state_dict(torch.load(\"/content/drive/My Drive/Clothes/model_last.pt\"))"
      ],
      "execution_count": 0,
      "outputs": []
    },
    {
      "cell_type": "code",
      "metadata": {
        "id": "oqDP5eptYYOD",
        "colab_type": "code",
        "colab": {}
      },
      "source": [
        "for param in model.parameters():\n",
        "    param.requires_grad = True"
      ],
      "execution_count": 0,
      "outputs": []
    },
    {
      "cell_type": "code",
      "metadata": {
        "id": "b294mqb5YYOE",
        "colab_type": "code",
        "colab": {}
      },
      "source": [
        "from torchsummary import summary\n",
        "summary(model, (3, 224, 224))"
      ],
      "execution_count": 0,
      "outputs": []
    },
    {
      "cell_type": "code",
      "metadata": {
        "id": "C4JDRCRuYYOG",
        "colab_type": "code",
        "colab": {}
      },
      "source": [
        "# torch.backends.cudnn.benchmark = True\n",
        "# torch.backends.cudnn.deterministic = True\n",
        "loss = torch.nn.CrossEntropyLoss()\n",
        "\n",
        "params_to_update = []\n",
        "for name,param in model.named_parameters():\n",
        "    if param.requires_grad == True:\n",
        "        params_to_update.append(param)\n",
        "        \n",
        "optimizer_ft = torch.optim.SGD(params_to_update, lr=0.001, momentum=0.9)\n",
        "\n",
        "result = train_model(model, loss, optimizer_ft, batch_size=32, num_epochs=4)"
      ],
      "execution_count": 0,
      "outputs": []
    },
    {
      "cell_type": "code",
      "metadata": {
        "id": "MCO4soZlmPsU",
        "colab_type": "code",
        "colab": {}
      },
      "source": [
        "model = result[0]\n",
        "torch.save(model.state_dict(), f\"/content/drive/My Drive/Clothes/model_all.pt\")"
      ],
      "execution_count": 0,
      "outputs": []
    },
    {
      "cell_type": "code",
      "metadata": {
        "id": "lBCLI3jcYYOM",
        "colab_type": "code",
        "outputId": "526f7cac-4f50-4172-89fb-3cd35a884135",
        "colab": {
          "base_uri": "https://localhost:8080/",
          "height": 34
        }
      },
      "source": [
        "import tqdm\n",
        "gen = batch_generator(batch_size=32, dataset='val', shuffle=False)\n",
        "\n",
        "N_STEPS = 1250\n",
        "\n",
        "accuracy = 0.0\n",
        "top3_acc = 0.0\n",
        "top5_acc = 0.0\n",
        "\n",
        "model.eval()\n",
        "preds_lst = []\n",
        "labels_lst = []\n",
        "with torch.set_grad_enabled(False):\n",
        "    for i in tqdm.tqdm(range(N_STEPS)):\n",
        "        imgs, labels = next(gen)\n",
        "        labels_lst.append(labels.detach().cpu().numpy())\n",
        "        outs = model(imgs)\n",
        "        preds_lst.append(outs.argmax(dim=1).detach().cpu().numpy())\n",
        "        pred_order = torch.argsort(outs, dim=1, descending=True)\n",
        "\n",
        "        accuracy += (pred_order[:, 0] == labels).sum()\n",
        "        top3_acc += (pred_order[:, :3] == labels.view(-1, 1)).sum()\n",
        "        top5_acc += (pred_order[:, :5] == labels.view(-1, 1)).sum()"
      ],
      "execution_count": 0,
      "outputs": [
        {
          "output_type": "stream",
          "text": [
            "100%|██████████| 1250/1250 [07:14<00:00,  2.88it/s]\n"
          ],
          "name": "stderr"
        }
      ]
    },
    {
      "cell_type": "code",
      "metadata": {
        "id": "F_XnOG-jYYOO",
        "colab_type": "code",
        "colab": {}
      },
      "source": [
        "torch.save(model.state_dict(), 'deepfashion_cat_ep8.torch')"
      ],
      "execution_count": 0,
      "outputs": []
    },
    {
      "cell_type": "code",
      "metadata": {
        "id": "Si4f1mS2YYOP",
        "colab_type": "code",
        "outputId": "8711fed9-ae29-4f0a-b7c4-372c7d88886b",
        "colab": {
          "base_uri": "https://localhost:8080/",
          "height": 34
        }
      },
      "source": [
        "total_imgs = N_STEPS * 32\n",
        "print('Accuracy: %.3f%%. Top3-accuracy: %.3f%%. Top5-accuracy: %.3f%% ' % (\n",
        "    float(accuracy) * 100.0 / total_imgs,\n",
        "    float(top3_acc) * 100.0 / total_imgs,\n",
        "    float(top5_acc) * 100.0 / total_imgs)\n",
        ")"
      ],
      "execution_count": 0,
      "outputs": [
        {
          "output_type": "stream",
          "text": [
            "Accuracy: 63.642%. Top3-accuracy: 86.310%. Top5-accuracy: 93.965% \n"
          ],
          "name": "stdout"
        }
      ]
    },
    {
      "cell_type": "markdown",
      "metadata": {
        "id": "j8hZKP-hYYOR",
        "colab_type": "text"
      },
      "source": [
        "## Visual evaluation"
      ]
    },
    {
      "cell_type": "code",
      "metadata": {
        "id": "L5LPxKdKYYOS",
        "colab_type": "code",
        "outputId": "5013fbc8-b47d-42c6-d1da-901eada5a524",
        "colab": {}
      },
      "source": [
        "torch.cuda.empty_cache()"
      ],
      "execution_count": 0,
      "outputs": [
        {
          "output_type": "execute_result",
          "data": {
            "text/plain": [
              "IncompatibleKeys(missing_keys=[], unexpected_keys=[])"
            ]
          },
          "metadata": {
            "tags": []
          },
          "execution_count": 13
        }
      ]
    },
    {
      "cell_type": "code",
      "metadata": {
        "id": "J-c8nq05FZvM",
        "colab_type": "code",
        "colab": {}
      },
      "source": [
        "model = torchvision.models.resnext101_32x8d(pretrained=False)\n",
        "model.fc = torch.nn.Linear(in_features=2048, out_features=1024, bias=True)\n",
        "model = torch.nn.Sequential(\n",
        "    model,\n",
        "    torch.nn.Linear(in_features=1024, out_features=50, bias=True)\n",
        ").cuda()\n",
        "model.load_state_dict(torch.load(\"/content/drive/My Drive/Clothes/model_all.pt\"))"
      ],
      "execution_count": 0,
      "outputs": []
    },
    {
      "cell_type": "code",
      "metadata": {
        "id": "mnzi1lcQYYOV",
        "colab_type": "code",
        "outputId": "438799d6-719f-4d6c-b791-2b20a7853c59",
        "colab": {}
      },
      "source": [
        "img = load_img('tmp.jpg')\n",
        "plt.imshow(img)\n",
        "img = torch.tensor(img, dtype=torch.float32, device='cuda:0').reshape(1, 224, 224, 3).permute(0, 3, 1, 2)\n",
        "img = img / 256.0 - 0.5\n",
        "\n",
        "sm = torch.nn.Softmax(dim=1)\n",
        "probs = sm(model(img))\n",
        "probs, idxs = probs.sort(descending=True)\n",
        "probs = probs.detach().cpu().numpy()[0]\n",
        "idxs = idxs.detach().cpu().numpy()[0]\n",
        "\n",
        "for i in range(5):\n",
        "    print('%d) %s %.2f%% ' % (i + 1, categories[idxs[i]], probs[i] * 100.0))"
      ],
      "execution_count": 0,
      "outputs": [
        {
          "output_type": "stream",
          "text": [
            "1) Jumpsuit 83.68% \n",
            "2) Romper 7.33% \n",
            "3) Dress 3.12% \n",
            "4) Jeans 0.79% \n",
            "5) Top 0.75% \n"
          ],
          "name": "stdout"
        },
        {
          "output_type": "display_data",
          "data": {
            "image/png": "[encoded data removed]",
            "text/plain": [
              "<Figure size 432x288 with 1 Axes>"
            ]
          },
          "metadata": {
            "tags": [],
            "needs_background": "light"
          }
        }
      ]
    }
  ]
}